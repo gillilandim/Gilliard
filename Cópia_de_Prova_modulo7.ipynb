{
  "nbformat": 4,
  "nbformat_minor": 0,
  "metadata": {
    "colab": {
      "provenance": [],
      "authorship_tag": "ABX9TyNnWsB3iOWU05wWosqc4Anz",
      "include_colab_link": true
    },
    "kernelspec": {
      "name": "python3",
      "display_name": "Python 3"
    },
    "language_info": {
      "name": "python"
    }
  },
  "cells": [
    {
      "cell_type": "markdown",
      "metadata": {
        "id": "view-in-github",
        "colab_type": "text"
      },
      "source": [
        "<a href=\"https://colab.research.google.com/github/gillilandim/Gilliard/blob/main/C%C3%B3pia_de_Prova_modulo7.ipynb\" target=\"_parent\"><img src=\"https://colab.research.google.com/assets/colab-badge.svg\" alt=\"Open In Colab\"/></a>"
      ]
    },
    {
      "cell_type": "code",
      "execution_count": null,
      "metadata": {
        "id": "ObSc961jTkSr"
      },
      "outputs": [],
      "source": [
        "############## Prova modulo 7"
      ]
    },
    {
      "cell_type": "code",
      "source": [
        "import pandas as pd\n",
        "\n",
        "# 1. Importando o arquivo CSV\n",
        "df = pd.read_csv(\"dataframe_exercicio_modulo_7.csv\")\n",
        "\n",
        "# Exibindo as primeiras linhas para verificar\n",
        "print(df.head())"
      ],
      "metadata": {
        "colab": {
          "base_uri": "https://localhost:8080/"
        },
        "id": "7sR6kca_Tzyo",
        "outputId": "5b7a1518-5981-489f-fda5-2cae2a2abb6b"
      },
      "execution_count": null,
      "outputs": [
        {
          "output_type": "stream",
          "name": "stdout",
          "text": [
            "   idade  tempo_educacao        estado_civil    cor    sexo  horas_por_semana  \\\n",
            "0   39.0              13       Never-married  White    Male                40   \n",
            "1   50.0              13  Married-civ-spouse  White    Male                13   \n",
            "2   38.0               9            Divorced  White    Male                40   \n",
            "3   53.0               7  Married-civ-spouse  Black    Male                40   \n",
            "4   37.0              14  Married-civ-spouse  White  Female                40   \n",
            "\n",
            "  salario_anual  nome  dívida  \n",
            "0         <=50K   NaN     NaN  \n",
            "1         <=50K   NaN     NaN  \n",
            "2         <=50K   NaN     NaN  \n",
            "3         <=50K   NaN     NaN  \n",
            "4         <=50K   NaN     NaN  \n"
          ]
        }
      ]
    },
    {
      "cell_type": "code",
      "source": [
        "### Passo 2 verificando as dimensões do dataframe"
      ],
      "metadata": {
        "id": "G40ALABxTz1v"
      },
      "execution_count": null,
      "outputs": []
    },
    {
      "cell_type": "code",
      "source": [
        "dimensoes = df.shape\n",
        "print(f\"Dimensões do dataframe: {dimensoes}\")"
      ],
      "metadata": {
        "colab": {
          "base_uri": "https://localhost:8080/"
        },
        "id": "U_bhn6e4Tz5e",
        "outputId": "c3beddab-a11a-45aa-f1b4-c60fe078c8b4"
      },
      "execution_count": null,
      "outputs": [
        {
          "output_type": "stream",
          "name": "stdout",
          "text": [
            "Dimensões do dataframe: (29170, 9)\n"
          ]
        }
      ]
    },
    {
      "cell_type": "code",
      "source": [
        "### Passo 3 identificar o tipo das variaveis"
      ],
      "metadata": {
        "id": "kg7VMCLoTz8R"
      },
      "execution_count": null,
      "outputs": []
    },
    {
      "cell_type": "code",
      "source": [
        "tipos_variaveis = df.dtypes\n",
        "print(tipos_variaveis)\n"
      ],
      "metadata": {
        "colab": {
          "base_uri": "https://localhost:8080/"
        },
        "id": "7qiQ4KRVTz-a",
        "outputId": "30edd35c-9ac8-4e40-ba4b-34e74b989c09"
      },
      "execution_count": null,
      "outputs": [
        {
          "output_type": "stream",
          "name": "stdout",
          "text": [
            "idade               float64\n",
            "tempo_educacao        int64\n",
            "estado_civil         object\n",
            "cor                  object\n",
            "sexo                 object\n",
            "horas_por_semana      int64\n",
            "salario_anual        object\n",
            "nome                float64\n",
            "dívida              float64\n",
            "dtype: object\n"
          ]
        }
      ]
    },
    {
      "cell_type": "code",
      "source": [
        "### Passo 4 verificar se existem variaveis faltantes"
      ],
      "metadata": {
        "id": "2TvndkiAT0As"
      },
      "execution_count": null,
      "outputs": []
    },
    {
      "cell_type": "code",
      "source": [
        "variaveis_faltantes = df.isnull().sum()\n",
        "print(variaveis_faltantes[variaveis_faltantes > 0])\n"
      ],
      "metadata": {
        "colab": {
          "base_uri": "https://localhost:8080/"
        },
        "id": "C8RPuYAyT0Cx",
        "outputId": "358b11fe-d603-4d3d-de82-55aa0319087d"
      },
      "execution_count": null,
      "outputs": [
        {
          "output_type": "stream",
          "name": "stdout",
          "text": [
            "idade        99\n",
            "nome      29170\n",
            "dívida    29170\n",
            "dtype: int64\n"
          ]
        }
      ]
    },
    {
      "cell_type": "code",
      "source": [
        "### Passo 5  Exibir categorias das variáveis 'estado_civil', 'cor' e 'sexo':"
      ],
      "metadata": {
        "id": "WvgqoqvST0E5"
      },
      "execution_count": null,
      "outputs": []
    },
    {
      "cell_type": "code",
      "source": [
        "categorias_estado_civil = df['estado_civil'].unique()\n",
        "categorias_cor = df['cor'].unique()\n",
        "categorias_sexo = df['sexo'].unique()\n",
        "\n",
        "print(f\"Categorias de estado_civil: {categorias_estado_civil}\")\n",
        "print(f\"Categorias de cor: {categorias_cor}\")\n",
        "print(f\"Categorias de sexo: {categorias_sexo}\")\n",
        "\n",
        "# Verificando inconsistências\n",
        "if 'estado_civil' in df.columns:\n",
        "    print(f\"Possíveis problemas em estado_civil: {df['estado_civil'].value_counts()}\")\n",
        "if 'cor' in df.columns:\n",
        "    print(f\"Possíveis problemas em cor: {df['cor'].value_counts()}\")\n",
        "if 'sexo' in df.columns:\n",
        "    print(f\"Possíveis problemas em sexo: {df['sexo'].value_counts()}\")\n"
      ],
      "metadata": {
        "colab": {
          "base_uri": "https://localhost:8080/"
        },
        "id": "TWMrMEz-T0Hp",
        "outputId": "689285ff-90e1-438d-a80f-018e340ecf49"
      },
      "execution_count": null,
      "outputs": [
        {
          "output_type": "stream",
          "name": "stdout",
          "text": [
            "Categorias de estado_civil: ['Never-married' 'Married-civ-spouse' 'Divorced' 'Separated'\n",
            " 'Married-AF-spouse' 'Widowed' 'Married-spouse-absent']\n",
            "Categorias de cor: ['White' 'Black' 'Other' 'Asian-Pac-Islander' 'Amer-Indian-Eskimo']\n",
            "Categorias de sexo: ['Male' 'Female' '?']\n",
            "Possíveis problemas em estado_civil: estado_civil\n",
            "Married-civ-spouse       13368\n",
            "Never-married             9579\n",
            "Divorced                  4162\n",
            "Widowed                    902\n",
            "Separated                  883\n",
            "Married-spouse-absent      253\n",
            "Married-AF-spouse           23\n",
            "Name: count, dtype: int64\n",
            "Possíveis problemas em cor: cor\n",
            "White                 25621\n",
            "Black                  2832\n",
            "Amer-Indian-Eskimo      296\n",
            "Asian-Pac-Islander      292\n",
            "Other                   129\n",
            "Name: count, dtype: int64\n",
            "Possíveis problemas em sexo: sexo\n",
            "Male      18181\n",
            "Female     9052\n",
            "?          1937\n",
            "Name: count, dtype: int64\n"
          ]
        }
      ]
    },
    {
      "cell_type": "code",
      "source": [
        "### Passo 6 - Tratamento das variáveis faltantes:\n",
        "df.fillna(df.median(numeric_only=True), inplace=True)  # Substitui valores numéricos faltantes pela mediana\n",
        "df.fillna(df.mode().iloc[0], inplace=True)  # Substitui valores categóricos pela moda\n",
        "\n",
        "# Verificando se ainda existem valores faltantes\n",
        "print(df.isnull().sum())\n"
      ],
      "metadata": {
        "colab": {
          "base_uri": "https://localhost:8080/"
        },
        "id": "DZZil9kRT0KW",
        "outputId": "88753b77-18c0-4a52-a995-a43c6dafc10c"
      },
      "execution_count": null,
      "outputs": [
        {
          "output_type": "stream",
          "name": "stdout",
          "text": [
            "idade                   0\n",
            "tempo_educacao          0\n",
            "estado_civil            0\n",
            "cor                     0\n",
            "sexo                    0\n",
            "horas_por_semana        0\n",
            "salario_anual           0\n",
            "nome                29170\n",
            "dívida              29170\n",
            "dtype: int64\n"
          ]
        }
      ]
    },
    {
      "cell_type": "code",
      "source": [
        "### Passo 7 - Transformação \"MinMax\" e \"StandardScaler\":\n",
        "from sklearn.preprocessing import MinMaxScaler, StandardScaler\n",
        "\n",
        "# 7. Aplique MinMax na variável 'tempo_educacao' e StandardScaler em 'horas_por_semana'\n",
        "scaler_minmax = MinMaxScaler()\n",
        "scaler_standard = StandardScaler()\n",
        "\n",
        "# Aplicando as transformações\n",
        "df['tempo_educacao_scaled'] = scaler_minmax.fit_transform(df[['tempo_educacao']])\n",
        "df['horas_por_semana_scaled'] = scaler_standard.fit_transform(df[['horas_por_semana']])\n",
        "\n",
        "print(df[['tempo_educacao_scaled', 'horas_por_semana_scaled']].head())\n"
      ],
      "metadata": {
        "colab": {
          "base_uri": "https://localhost:8080/"
        },
        "id": "9ScFqvtHT0M_",
        "outputId": "8c25b04e-ee6e-47e1-f59f-a38d73d053c3"
      },
      "execution_count": null,
      "outputs": [
        {
          "output_type": "stream",
          "name": "stdout",
          "text": [
            "   tempo_educacao_scaled  horas_por_semana_scaled\n",
            "0               0.800000                 -0.03606\n",
            "1               0.800000                 -2.21050\n",
            "2               0.533333                 -0.03606\n",
            "3               0.400000                 -0.03606\n",
            "4               0.866667                 -0.03606\n"
          ]
        }
      ]
    },
    {
      "cell_type": "code",
      "source": [
        "###Passo 8 - Aplicar One-Hot Encoding nas variáveis categóricas:\n",
        "df = pd.get_dummies(df, columns=['estado_civil', 'cor', 'sexo'], drop_first=True)\n",
        "\n",
        "# Exibindo as primeiras colunas para verificar\n",
        "print(df.head())\n"
      ],
      "metadata": {
        "colab": {
          "base_uri": "https://localhost:8080/"
        },
        "id": "WT-El2zeT0RO",
        "outputId": "2ea00be3-ca98-43bc-9486-a5bbbfa4ad29"
      },
      "execution_count": null,
      "outputs": [
        {
          "output_type": "stream",
          "name": "stdout",
          "text": [
            "   idade  tempo_educacao  horas_por_semana salario_anual  nome  dívida  \\\n",
            "0   39.0              13                40         <=50K   NaN     NaN   \n",
            "1   50.0              13                13         <=50K   NaN     NaN   \n",
            "2   38.0               9                40         <=50K   NaN     NaN   \n",
            "3   53.0               7                40         <=50K   NaN     NaN   \n",
            "4   37.0              14                40         <=50K   NaN     NaN   \n",
            "\n",
            "   tempo_educacao_scaled  horas_por_semana_scaled  \\\n",
            "0               0.800000                 -0.03606   \n",
            "1               0.800000                 -2.21050   \n",
            "2               0.533333                 -0.03606   \n",
            "3               0.400000                 -0.03606   \n",
            "4               0.866667                 -0.03606   \n",
            "\n",
            "   estado_civil_Married-AF-spouse  estado_civil_Married-civ-spouse  \\\n",
            "0                           False                            False   \n",
            "1                           False                             True   \n",
            "2                           False                            False   \n",
            "3                           False                             True   \n",
            "4                           False                             True   \n",
            "\n",
            "   estado_civil_Married-spouse-absent  estado_civil_Never-married  \\\n",
            "0                               False                        True   \n",
            "1                               False                       False   \n",
            "2                               False                       False   \n",
            "3                               False                       False   \n",
            "4                               False                       False   \n",
            "\n",
            "   estado_civil_Separated  estado_civil_Widowed  cor_Asian-Pac-Islander  \\\n",
            "0                   False                 False                   False   \n",
            "1                   False                 False                   False   \n",
            "2                   False                 False                   False   \n",
            "3                   False                 False                   False   \n",
            "4                   False                 False                   False   \n",
            "\n",
            "   cor_Black  cor_Other  cor_White  sexo_Female  sexo_Male  \n",
            "0      False      False       True        False       True  \n",
            "1      False      False       True        False       True  \n",
            "2      False      False       True        False       True  \n",
            "3       True      False      False        False       True  \n",
            "4      False      False       True         True      False  \n"
          ]
        }
      ]
    },
    {
      "cell_type": "code",
      "source": [
        "### Passo 9 - Detectar e eliminar outliers da variável 'idade':\n",
        "# 9. Detectar e eliminar outliers da variável 'idade' usando o método do IQR\n",
        "Q1 = df['idade'].quantile(0.25)\n",
        "Q3 = df['idade'].quantile(0.75)\n",
        "IQR = Q3 - Q1\n",
        "\n",
        "# Definindo limites para detecção de outliers\n",
        "limite_inferior = Q1 - 1.5 * IQR\n",
        "limite_superior = Q3 + 1.5 * IQR\n",
        "\n",
        "# Eliminando outliers\n",
        "df_sem_outliers = df[(df['idade'] >= limite_inferior) & (df['idade'] <= limite_superior)]\n",
        "\n",
        "print(f\"Dataframe após remoção de outliers: {df_sem_outliers.shape}\")\n"
      ],
      "metadata": {
        "colab": {
          "base_uri": "https://localhost:8080/"
        },
        "id": "UMEhxf8NT0TT",
        "outputId": "b6df35ba-3c1c-443a-b637-511c2b6b2bae"
      },
      "execution_count": null,
      "outputs": [
        {
          "output_type": "stream",
          "name": "stdout",
          "text": [
            "Dataframe após remoção de outliers: (29044, 20)\n"
          ]
        }
      ]
    },
    {
      "cell_type": "code",
      "source": [],
      "metadata": {
        "id": "bTvRGuJUT0VU"
      },
      "execution_count": null,
      "outputs": []
    },
    {
      "cell_type": "code",
      "source": [
        "### Passo 10 - Função para aplicar todas as transformações\n",
        "import pandas as pd\n",
        "from sklearn.preprocessing import MinMaxScaler, StandardScaler\n",
        "\n",
        "def transforma_dataframe(df_original):\n",
        "    # Cópia do dataframe original\n",
        "    df = df_original.copy()\n",
        "\n",
        "\n",
        "    df.fillna(df.median(numeric_only=True), inplace=True)\n",
        "    df.fillna(df.mode().iloc[0], inplace=True)\n",
        "\n",
        "\n",
        "    if 'tempo_educacao' in df.columns:\n",
        "        df['tempo_educacao'] = pd.to_numeric(df['tempo_educacao'], errors='coerce')\n",
        "        scaler_minmax = MinMaxScaler()\n",
        "        df['tempo_educacao_scaled'] = scaler_minmax.fit_transform(df[['tempo_educacao']])\n",
        "    else:\n",
        "        print(\"Coluna 'tempo_educacao' não encontrada.\")\n",
        "\n",
        "    if 'horas_por_semana' in df.columns:\n",
        "        df['horas_por_semana'] = pd.to_numeric(df['horas_por_semana'], errors='coerce')\n",
        "        scaler_standard = StandardScaler()\n",
        "        df['horas_por_semana_scaled'] = scaler_standard.fit_transform(df[['horas_por_semana']])\n",
        "    else:\n",
        "        print(\"Coluna 'horas_por_semana' não encontrada.\")\n",
        "\n",
        "\n",
        "    colunas_categoricas = ['estado_civil', 'cor', 'sexo']\n",
        "    for coluna in colunas_categoricas:\n",
        "        if coluna in df.columns:\n",
        "            df = pd.get_dummies(df, columns=[coluna], drop_first=True)\n",
        "        else:\n",
        "            print(f\"Coluna '{coluna}' não encontrada.\")\n",
        "\n",
        "\n",
        "    if 'idade' in df.columns:\n",
        "        Q1 = df['idade'].quantile(0.25)\n",
        "        Q3 = df['idade'].quantile(0.75)\n",
        "        IQR = Q3 - Q1\n",
        "        limite_inferior = Q1 - 1.5 * IQR\n",
        "        limite_superior = Q3 + 1.5 * IQR\n",
        "        df = df[(df['idade'] >= limite_inferior) & (df['idade'] <= limite_superior)]\n",
        "    else:\n",
        "        print(\"Coluna 'idade' não encontrada.\")\n",
        "\n",
        "    return df\n",
        "\n",
        "df_transformado = transforma_dataframe(df)\n",
        "print(df_transformado.head())\n"
      ],
      "metadata": {
        "colab": {
          "base_uri": "https://localhost:8080/"
        },
        "id": "X3alsxMhT0Xq",
        "outputId": "4f401fd1-e8e8-4021-c97e-9c5fa14bb9dc"
      },
      "execution_count": null,
      "outputs": [
        {
          "output_type": "stream",
          "name": "stdout",
          "text": [
            "Coluna 'estado_civil' não encontrada.\n",
            "Coluna 'cor' não encontrada.\n",
            "Coluna 'sexo' não encontrada.\n",
            "   idade  tempo_educacao  horas_por_semana salario_anual  nome  dívida  \\\n",
            "0   39.0              13                40         <=50K   NaN     NaN   \n",
            "1   50.0              13                13         <=50K   NaN     NaN   \n",
            "2   38.0               9                40         <=50K   NaN     NaN   \n",
            "3   53.0               7                40         <=50K   NaN     NaN   \n",
            "4   37.0              14                40         <=50K   NaN     NaN   \n",
            "\n",
            "   tempo_educacao_scaled  horas_por_semana_scaled  \\\n",
            "0               0.800000                 -0.03606   \n",
            "1               0.800000                 -2.21050   \n",
            "2               0.533333                 -0.03606   \n",
            "3               0.400000                 -0.03606   \n",
            "4               0.866667                 -0.03606   \n",
            "\n",
            "   estado_civil_Married-AF-spouse  estado_civil_Married-civ-spouse  \\\n",
            "0                           False                            False   \n",
            "1                           False                             True   \n",
            "2                           False                            False   \n",
            "3                           False                             True   \n",
            "4                           False                             True   \n",
            "\n",
            "   estado_civil_Married-spouse-absent  estado_civil_Never-married  \\\n",
            "0                               False                        True   \n",
            "1                               False                       False   \n",
            "2                               False                       False   \n",
            "3                               False                       False   \n",
            "4                               False                       False   \n",
            "\n",
            "   estado_civil_Separated  estado_civil_Widowed  cor_Asian-Pac-Islander  \\\n",
            "0                   False                 False                   False   \n",
            "1                   False                 False                   False   \n",
            "2                   False                 False                   False   \n",
            "3                   False                 False                   False   \n",
            "4                   False                 False                   False   \n",
            "\n",
            "   cor_Black  cor_Other  cor_White  sexo_Female  sexo_Male  \n",
            "0      False      False       True        False       True  \n",
            "1      False      False       True        False       True  \n",
            "2      False      False       True        False       True  \n",
            "3       True      False      False        False       True  \n",
            "4      False      False       True         True      False  \n"
          ]
        }
      ]
    },
    {
      "cell_type": "code",
      "source": [],
      "metadata": {
        "id": "HQaLgr3cT0Zv"
      },
      "execution_count": null,
      "outputs": []
    },
    {
      "cell_type": "code",
      "source": [],
      "metadata": {
        "id": "e2v6odFYT0cM"
      },
      "execution_count": null,
      "outputs": []
    },
    {
      "cell_type": "code",
      "source": [],
      "metadata": {
        "id": "prcn_wwMT0e7"
      },
      "execution_count": null,
      "outputs": []
    },
    {
      "cell_type": "code",
      "source": [],
      "metadata": {
        "id": "PDkBbjoZT0ht"
      },
      "execution_count": null,
      "outputs": []
    },
    {
      "cell_type": "code",
      "source": [],
      "metadata": {
        "id": "mrlLtpzST0lB"
      },
      "execution_count": null,
      "outputs": []
    },
    {
      "cell_type": "code",
      "source": [],
      "metadata": {
        "id": "HdivxcX9T0or"
      },
      "execution_count": null,
      "outputs": []
    },
    {
      "cell_type": "code",
      "source": [],
      "metadata": {
        "id": "8XxHhEw0T0qv"
      },
      "execution_count": null,
      "outputs": []
    }
  ]
}